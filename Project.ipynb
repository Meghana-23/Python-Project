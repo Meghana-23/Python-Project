{
  "nbformat": 4,
  "nbformat_minor": 0,
  "metadata": {
    "colab": {
      "name": "Project",
      "provenance": []
    },
    "kernelspec": {
      "name": "python3",
      "display_name": "Python 3"
    }
  },
  "cells": [
    {
      "cell_type": "markdown",
      "metadata": {
        "id": "-k6_2DSkkiEY",
        "colab_type": "text"
      },
      "source": [
        "### Project name(app name):Contact app1\n",
        "* Add a contact details\n",
        "* Search the contact details\n",
        "* Modify the contact details\n",
        "* To delete the contact details"
      ]
    },
    {
      "cell_type": "code",
      "metadata": {
        "id": "APQ8vo06kqxR",
        "colab_type": "code",
        "colab": {}
      },
      "source": [
        "contact={} # empty dict object is taken\n",
        "# lets create a function to add a contact details\n",
        "def addcontact(name,phone):\n",
        "    return\n",
        "addcontact('megha','8317562144')      \n",
        "    "
      ],
      "execution_count": 0,
      "outputs": []
    },
    {
      "cell_type": "code",
      "metadata": {
        "id": "lA-KYLiFLQ5O",
        "colab_type": "code",
        "colab": {
          "base_uri": "https://localhost:8080/",
          "height": 68
        },
        "outputId": "67694f75-abae-4250-adff-409e24c58447"
      },
      "source": [
        "contacts={}\n",
        "def addcontact(name,phone):\n",
        "    if name  not in contacts:\n",
        "        contacts[name]=phone\n",
        "        print(\"contact is added successfully\")\n",
        "    else:\n",
        "        print(\"name is already existing\")\n",
        "    return\n",
        "addcontact('meghana','8317562244')\n",
        "addcontact('prem','9381472224')\n",
        "addcontact('riya','9632587410')            "
      ],
      "execution_count": 11,
      "outputs": [
        {
          "output_type": "stream",
          "text": [
            "contact is added successfully\n",
            "contact is added successfully\n",
            "contact is added successfully\n"
          ],
          "name": "stdout"
        }
      ]
    },
    {
      "cell_type": "code",
      "metadata": {
        "id": "mNNDU2EDO8nF",
        "colab_type": "code",
        "colab": {
          "base_uri": "https://localhost:8080/",
          "height": 34
        },
        "outputId": "6b230fd2-5a44-4553-a045-5e0eb1070af9"
      },
      "source": [
        "contacts"
      ],
      "execution_count": 12,
      "outputs": [
        {
          "output_type": "execute_result",
          "data": {
            "text/plain": [
              "{'meghana': '8317562244', 'prem': '9381472224', 'riya': '9632587410'}"
            ]
          },
          "metadata": {
            "tags": []
          },
          "execution_count": 12
        }
      ]
    },
    {
      "cell_type": "code",
      "metadata": {
        "id": "MJ82VUaBP4kq",
        "colab_type": "code",
        "colab": {}
      },
      "source": [
        "cont={}\n",
        "def addcont(name,phne):\n",
        "    for i in range(0,4):\n",
        "        cont[name]=phne\n",
        "    return\n",
        "addcont('jan','1023654789')\n",
        "addcont('sanem','7786542103')    "
      ],
      "execution_count": 0,
      "outputs": []
    },
    {
      "cell_type": "code",
      "metadata": {
        "id": "sN6DTkJhRT1g",
        "colab_type": "code",
        "colab": {
          "base_uri": "https://localhost:8080/",
          "height": 34
        },
        "outputId": "de6a860b-1457-49c1-9aa3-bc74cde64896"
      },
      "source": [
        "cont"
      ],
      "execution_count": 14,
      "outputs": [
        {
          "output_type": "execute_result",
          "data": {
            "text/plain": [
              "{'jan': '1023654789', 'sanem': '7786542103'}"
            ]
          },
          "metadata": {
            "tags": []
          },
          "execution_count": 14
        }
      ]
    },
    {
      "cell_type": "code",
      "metadata": {
        "id": "8fD-OPZJRWUJ",
        "colab_type": "code",
        "colab": {
          "base_uri": "https://localhost:8080/",
          "height": 34
        },
        "outputId": "6e3104dd-9a76-4a4e-d3e4-4b2980d0ec9b"
      },
      "source": [
        "def searchcontact(name):\n",
        "    if name  in contacts:\n",
        "        print(name,\":\",contacts[name])\n",
        "    else:\n",
        "        print(name,'does not present')\n",
        "    return\n",
        "searchcontact('meghana')        "
      ],
      "execution_count": 23,
      "outputs": [
        {
          "output_type": "stream",
          "text": [
            "meghana : 8317562244\n"
          ],
          "name": "stdout"
        }
      ]
    },
    {
      "cell_type": "code",
      "metadata": {
        "id": "76mF7A6TS4xp",
        "colab_type": "code",
        "colab": {
          "base_uri": "https://localhost:8080/",
          "height": 68
        },
        "outputId": "12173dad-2448-4f29-bbef-1e78efd5a2a4"
      },
      "source": [
        "def modifycontact(name,phone):\n",
        "    if name in contacts:\n",
        "        contacts[name]=phone\n",
        "        print(name,\":\",contacts[name])\n",
        "        print(name,'updated successfully')\n",
        "    else:\n",
        "        print(name,'doesnot exist') \n",
        "    return\n",
        "modifycontact('riya','8963251470')\n",
        "modifycontact('ankith','7896541230')           "
      ],
      "execution_count": 27,
      "outputs": [
        {
          "output_type": "stream",
          "text": [
            "riya : 8963251470\n",
            "riya updated successfully\n",
            "ankith doesnot exist\n"
          ],
          "name": "stdout"
        }
      ]
    },
    {
      "cell_type": "code",
      "metadata": {
        "id": "I-z8BnmRVrQy",
        "colab_type": "code",
        "colab": {
          "base_uri": "https://localhost:8080/",
          "height": 51
        },
        "outputId": "f392482d-690d-4482-d94e-018ff7091310"
      },
      "source": [
        "def deletecont(name):\n",
        "    if name in contacts:\n",
        "        del contacts[name]\n",
        "        print(name,'deleted contact successfully')\n",
        "    else:\n",
        "        print(name,'not exists')\n",
        "    return\n",
        "deletecont('meghana') \n",
        "deletecont('riya')   "
      ],
      "execution_count": 33,
      "outputs": [
        {
          "output_type": "stream",
          "text": [
            "meghana not exists\n",
            "riya deleted contact successfully\n"
          ],
          "name": "stdout"
        }
      ]
    },
    {
      "cell_type": "code",
      "metadata": {
        "id": "VGcpEOKDZL0F",
        "colab_type": "code",
        "colab": {}
      },
      "source": [
        ""
      ],
      "execution_count": 0,
      "outputs": []
    }
  ]
}